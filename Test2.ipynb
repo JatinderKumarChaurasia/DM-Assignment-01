{
 "cells": [
  {
   "cell_type": "code",
   "execution_count": 1,
   "id": "5f63382f-4e20-4781-a4f3-b6481e5aebf4",
   "metadata": {},
   "outputs": [
    {
     "name": "stdout",
     "output_type": "stream",
     "text": [
      "Requirement already satisfied: seaborn in /Users/jatinder/opt/anaconda3/lib/python3.9/site-packages (0.11.2)\n",
      "Requirement already satisfied: matplotlib>=2.2 in /Users/jatinder/opt/anaconda3/lib/python3.9/site-packages (from seaborn) (3.4.3)\n",
      "Requirement already satisfied: numpy>=1.15 in /Users/jatinder/opt/anaconda3/lib/python3.9/site-packages (from seaborn) (1.20.3)\n",
      "Requirement already satisfied: pandas>=0.23 in /Users/jatinder/opt/anaconda3/lib/python3.9/site-packages (from seaborn) (1.3.4)\n",
      "Requirement already satisfied: scipy>=1.0 in /Users/jatinder/opt/anaconda3/lib/python3.9/site-packages (from seaborn) (1.7.1)\n",
      "Requirement already satisfied: cycler>=0.10 in /Users/jatinder/opt/anaconda3/lib/python3.9/site-packages (from matplotlib>=2.2->seaborn) (0.10.0)\n",
      "Requirement already satisfied: pillow>=6.2.0 in /Users/jatinder/opt/anaconda3/lib/python3.9/site-packages (from matplotlib>=2.2->seaborn) (8.4.0)\n",
      "Requirement already satisfied: pyparsing>=2.2.1 in /Users/jatinder/opt/anaconda3/lib/python3.9/site-packages (from matplotlib>=2.2->seaborn) (3.0.4)\n",
      "Requirement already satisfied: kiwisolver>=1.0.1 in /Users/jatinder/opt/anaconda3/lib/python3.9/site-packages (from matplotlib>=2.2->seaborn) (1.3.1)\n",
      "Requirement already satisfied: python-dateutil>=2.7 in /Users/jatinder/opt/anaconda3/lib/python3.9/site-packages (from matplotlib>=2.2->seaborn) (2.8.2)\n",
      "Requirement already satisfied: six in /Users/jatinder/opt/anaconda3/lib/python3.9/site-packages (from cycler>=0.10->matplotlib>=2.2->seaborn) (1.16.0)\n",
      "Requirement already satisfied: pytz>=2017.3 in /Users/jatinder/opt/anaconda3/lib/python3.9/site-packages (from pandas>=0.23->seaborn) (2021.3)\n",
      "Requirement already satisfied: sklearn in /Users/jatinder/opt/anaconda3/lib/python3.9/site-packages (0.0)\n",
      "Requirement already satisfied: scikit-learn in /Users/jatinder/opt/anaconda3/lib/python3.9/site-packages (from sklearn) (0.24.2)\n",
      "Requirement already satisfied: threadpoolctl>=2.0.0 in /Users/jatinder/opt/anaconda3/lib/python3.9/site-packages (from scikit-learn->sklearn) (2.2.0)\n",
      "Requirement already satisfied: numpy>=1.13.3 in /Users/jatinder/opt/anaconda3/lib/python3.9/site-packages (from scikit-learn->sklearn) (1.20.3)\n",
      "Requirement already satisfied: scipy>=0.19.1 in /Users/jatinder/opt/anaconda3/lib/python3.9/site-packages (from scikit-learn->sklearn) (1.7.1)\n",
      "Requirement already satisfied: joblib>=0.11 in /Users/jatinder/opt/anaconda3/lib/python3.9/site-packages (from scikit-learn->sklearn) (1.1.0)\n",
      "Requirement already satisfied: numpy in /Users/jatinder/opt/anaconda3/lib/python3.9/site-packages (1.20.3)\n"
     ]
    }
   ],
   "source": [
    "!pip install seaborn\n",
    "!pip install sklearn\n",
    "!pip install numpy"
   ]
  },
  {
   "cell_type": "code",
   "execution_count": 2,
   "id": "4aa34be9-32b2-4c6a-9f17-d45cfc011259",
   "metadata": {},
   "outputs": [],
   "source": [
    "import pandas as pd\n",
    "import numpy as np\n",
    "import matplotlib.pyplot as plt\n",
    "import seaborn as sns\n",
    "from sklearn.model_selection import train_test_split \n",
    "from sklearn.linear_model import LogisticRegression"
   ]
  },
  {
   "cell_type": "code",
   "execution_count": 3,
   "id": "3a668b39-9eee-4c0c-86e6-8316324d5ace",
   "metadata": {},
   "outputs": [],
   "source": [
    "# pre-setting the NAN values;\n",
    "df=pd.read_csv('../data/Attrition.csv',na_values=['NAN','NaN'])"
   ]
  },
  {
   "cell_type": "markdown",
   "id": "59deb4a2-adf0-4ec4-b4c7-179b318dc306",
   "metadata": {},
   "source": [
    "### Preprocessing"
   ]
  },
  {
   "cell_type": "code",
   "execution_count": 4,
   "id": "834b0284-e544-44d7-ae96-018cd638e96d",
   "metadata": {},
   "outputs": [
    {
     "data": {
      "text/plain": [
       "(1470, 33)"
      ]
     },
     "execution_count": 4,
     "metadata": {},
     "output_type": "execute_result"
    }
   ],
   "source": [
    "df.shape"
   ]
  },
  {
   "cell_type": "code",
   "execution_count": 5,
   "id": "f7f9c535-7c38-47ee-be71-f062c176a609",
   "metadata": {},
   "outputs": [
    {
     "data": {
      "text/plain": [
       "Attrition                   0\n",
       "Age                         0\n",
       "BusinessTravel              0\n",
       "DailyRate                   0\n",
       "Department                  0\n",
       "DistanceFromHome            5\n",
       "Education                   1\n",
       "EducationField              0\n",
       "EmployeeNumber              0\n",
       "EnvironmentSatisfaction     0\n",
       "Gender                      0\n",
       "HourlyRate                  5\n",
       "JobInvolvement              0\n",
       "JobLevel                    0\n",
       "JobRole                     0\n",
       "JobSatisfaction             0\n",
       "MaritalStatus               0\n",
       "MonthlyIncome               5\n",
       "MonthlyRate                 5\n",
       "NumCompaniesWorked          0\n",
       "Over18                      0\n",
       "OverTime                    0\n",
       "PercentSalaryHike           0\n",
       "PerformanceRating           0\n",
       "RelationshipSatisfaction    0\n",
       "StockOptionLevel            0\n",
       "TotalWorkingYears           0\n",
       "TrainingTimesLastYear       0\n",
       "WorkLifeBalance             0\n",
       "YearsAtCompany              0\n",
       "YearsInCurrentRole          0\n",
       "YearsSinceLastPromotion     0\n",
       "YearsWithCurrManager        0\n",
       "dtype: int64"
      ]
     },
     "execution_count": 5,
     "metadata": {},
     "output_type": "execute_result"
    }
   ],
   "source": [
    "# checking the NAN\n",
    "df.isna().sum()"
   ]
  },
  {
   "cell_type": "code",
   "execution_count": 6,
   "id": "a8edb15a-8f91-4ba1-9ece-934058da50bc",
   "metadata": {},
   "outputs": [
    {
     "data": {
      "text/plain": [
       "Attrition         0\n",
       "Age               0\n",
       "BusinessTravel    0\n",
       "DailyRate         0\n",
       "Department        0\n",
       "dtype: int64"
      ]
     },
     "execution_count": 6,
     "metadata": {},
     "output_type": "execute_result"
    }
   ],
   "source": [
    "# checking if any cell is empty:\n",
    "df.isnull().sum().head()"
   ]
  },
  {
   "cell_type": "code",
   "execution_count": 7,
   "id": "8cc28f21-752a-47cd-b81a-a63bda3d7081",
   "metadata": {},
   "outputs": [],
   "source": [
    "# Removing Nan with their\n",
    "df['Education']=df['Education'].fillna(min(df['Education'].values.tolist()))\n",
    "df['DistanceFromHome']=df['DistanceFromHome'].fillna(min(df['DistanceFromHome'].values.tolist()))\n",
    "df['HourlyRate']=df['HourlyRate'].fillna(min(df['HourlyRate'].values.tolist()))\n",
    "df['MonthlyIncome']=df['MonthlyIncome'].fillna(min(df['MonthlyIncome'].values.tolist()))\n",
    "df['MonthlyRate']=df['MonthlyRate'].fillna(min(df['MonthlyRate'].values.tolist()))"
   ]
  },
  {
   "cell_type": "code",
   "execution_count": 8,
   "id": "9484c8f5-81b4-47f9-9c05-39b596577ebe",
   "metadata": {},
   "outputs": [
    {
     "data": {
      "text/html": [
       "<div>\n",
       "<style scoped>\n",
       "    .dataframe tbody tr th:only-of-type {\n",
       "        vertical-align: middle;\n",
       "    }\n",
       "\n",
       "    .dataframe tbody tr th {\n",
       "        vertical-align: top;\n",
       "    }\n",
       "\n",
       "    .dataframe thead th {\n",
       "        text-align: right;\n",
       "    }\n",
       "</style>\n",
       "<table border=\"1\" class=\"dataframe\">\n",
       "  <thead>\n",
       "    <tr style=\"text-align: right;\">\n",
       "      <th></th>\n",
       "      <th>Attrition</th>\n",
       "      <th>Age</th>\n",
       "      <th>BusinessTravel</th>\n",
       "      <th>DailyRate</th>\n",
       "      <th>Department</th>\n",
       "      <th>DistanceFromHome</th>\n",
       "      <th>Education</th>\n",
       "      <th>EducationField</th>\n",
       "      <th>EmployeeNumber</th>\n",
       "      <th>EnvironmentSatisfaction</th>\n",
       "      <th>...</th>\n",
       "      <th>PerformanceRating</th>\n",
       "      <th>RelationshipSatisfaction</th>\n",
       "      <th>StockOptionLevel</th>\n",
       "      <th>TotalWorkingYears</th>\n",
       "      <th>TrainingTimesLastYear</th>\n",
       "      <th>WorkLifeBalance</th>\n",
       "      <th>YearsAtCompany</th>\n",
       "      <th>YearsInCurrentRole</th>\n",
       "      <th>YearsSinceLastPromotion</th>\n",
       "      <th>YearsWithCurrManager</th>\n",
       "    </tr>\n",
       "  </thead>\n",
       "  <tbody>\n",
       "    <tr>\n",
       "      <th>0</th>\n",
       "      <td>Yes</td>\n",
       "      <td>41</td>\n",
       "      <td>Travel_Rarely</td>\n",
       "      <td>1102</td>\n",
       "      <td>Sales</td>\n",
       "      <td>1.0</td>\n",
       "      <td>2.0</td>\n",
       "      <td>Life Sciences</td>\n",
       "      <td>1</td>\n",
       "      <td>2</td>\n",
       "      <td>...</td>\n",
       "      <td>3</td>\n",
       "      <td>1</td>\n",
       "      <td>0</td>\n",
       "      <td>8</td>\n",
       "      <td>0</td>\n",
       "      <td>1</td>\n",
       "      <td>6</td>\n",
       "      <td>4</td>\n",
       "      <td>0</td>\n",
       "      <td>5</td>\n",
       "    </tr>\n",
       "    <tr>\n",
       "      <th>1</th>\n",
       "      <td>No</td>\n",
       "      <td>49</td>\n",
       "      <td>Travel_Frequently</td>\n",
       "      <td>279</td>\n",
       "      <td>Research &amp; Development</td>\n",
       "      <td>8.0</td>\n",
       "      <td>1.0</td>\n",
       "      <td>Life Sciences</td>\n",
       "      <td>2</td>\n",
       "      <td>3</td>\n",
       "      <td>...</td>\n",
       "      <td>4</td>\n",
       "      <td>4</td>\n",
       "      <td>1</td>\n",
       "      <td>10</td>\n",
       "      <td>3</td>\n",
       "      <td>3</td>\n",
       "      <td>10</td>\n",
       "      <td>7</td>\n",
       "      <td>1</td>\n",
       "      <td>7</td>\n",
       "    </tr>\n",
       "    <tr>\n",
       "      <th>2</th>\n",
       "      <td>Yes</td>\n",
       "      <td>37</td>\n",
       "      <td>Travel_Rarely</td>\n",
       "      <td>1373</td>\n",
       "      <td>Research &amp; Development</td>\n",
       "      <td>2.0</td>\n",
       "      <td>2.0</td>\n",
       "      <td>Other</td>\n",
       "      <td>4</td>\n",
       "      <td>4</td>\n",
       "      <td>...</td>\n",
       "      <td>3</td>\n",
       "      <td>2</td>\n",
       "      <td>0</td>\n",
       "      <td>7</td>\n",
       "      <td>3</td>\n",
       "      <td>3</td>\n",
       "      <td>0</td>\n",
       "      <td>0</td>\n",
       "      <td>0</td>\n",
       "      <td>0</td>\n",
       "    </tr>\n",
       "    <tr>\n",
       "      <th>3</th>\n",
       "      <td>No</td>\n",
       "      <td>33</td>\n",
       "      <td>Travel_Frequently</td>\n",
       "      <td>1392</td>\n",
       "      <td>Research &amp; Development</td>\n",
       "      <td>3.0</td>\n",
       "      <td>4.0</td>\n",
       "      <td>Life Sciences</td>\n",
       "      <td>5</td>\n",
       "      <td>4</td>\n",
       "      <td>...</td>\n",
       "      <td>3</td>\n",
       "      <td>3</td>\n",
       "      <td>0</td>\n",
       "      <td>8</td>\n",
       "      <td>3</td>\n",
       "      <td>3</td>\n",
       "      <td>8</td>\n",
       "      <td>7</td>\n",
       "      <td>3</td>\n",
       "      <td>0</td>\n",
       "    </tr>\n",
       "    <tr>\n",
       "      <th>4</th>\n",
       "      <td>No</td>\n",
       "      <td>27</td>\n",
       "      <td>Travel_Rarely</td>\n",
       "      <td>591</td>\n",
       "      <td>Research &amp; Development</td>\n",
       "      <td>2.0</td>\n",
       "      <td>1.0</td>\n",
       "      <td>Medical</td>\n",
       "      <td>7</td>\n",
       "      <td>1</td>\n",
       "      <td>...</td>\n",
       "      <td>3</td>\n",
       "      <td>4</td>\n",
       "      <td>1</td>\n",
       "      <td>6</td>\n",
       "      <td>3</td>\n",
       "      <td>3</td>\n",
       "      <td>2</td>\n",
       "      <td>2</td>\n",
       "      <td>2</td>\n",
       "      <td>2</td>\n",
       "    </tr>\n",
       "    <tr>\n",
       "      <th>5</th>\n",
       "      <td>No</td>\n",
       "      <td>32</td>\n",
       "      <td>Travel_Frequently</td>\n",
       "      <td>1005</td>\n",
       "      <td>Research &amp; Development</td>\n",
       "      <td>2.0</td>\n",
       "      <td>2.0</td>\n",
       "      <td>Life Sciences</td>\n",
       "      <td>8</td>\n",
       "      <td>4</td>\n",
       "      <td>...</td>\n",
       "      <td>3</td>\n",
       "      <td>3</td>\n",
       "      <td>0</td>\n",
       "      <td>8</td>\n",
       "      <td>2</td>\n",
       "      <td>2</td>\n",
       "      <td>7</td>\n",
       "      <td>7</td>\n",
       "      <td>3</td>\n",
       "      <td>6</td>\n",
       "    </tr>\n",
       "    <tr>\n",
       "      <th>6</th>\n",
       "      <td>No</td>\n",
       "      <td>59</td>\n",
       "      <td>Travel_Rarely</td>\n",
       "      <td>1324</td>\n",
       "      <td>Research &amp; Development</td>\n",
       "      <td>3.0</td>\n",
       "      <td>3.0</td>\n",
       "      <td>Medical</td>\n",
       "      <td>10</td>\n",
       "      <td>3</td>\n",
       "      <td>...</td>\n",
       "      <td>4</td>\n",
       "      <td>1</td>\n",
       "      <td>3</td>\n",
       "      <td>12</td>\n",
       "      <td>3</td>\n",
       "      <td>2</td>\n",
       "      <td>1</td>\n",
       "      <td>0</td>\n",
       "      <td>0</td>\n",
       "      <td>0</td>\n",
       "    </tr>\n",
       "    <tr>\n",
       "      <th>7</th>\n",
       "      <td>No</td>\n",
       "      <td>30</td>\n",
       "      <td>Travel_Rarely</td>\n",
       "      <td>1358</td>\n",
       "      <td>Research &amp; Development</td>\n",
       "      <td>24.0</td>\n",
       "      <td>1.0</td>\n",
       "      <td>Life Sciences</td>\n",
       "      <td>11</td>\n",
       "      <td>4</td>\n",
       "      <td>...</td>\n",
       "      <td>4</td>\n",
       "      <td>2</td>\n",
       "      <td>1</td>\n",
       "      <td>1</td>\n",
       "      <td>2</td>\n",
       "      <td>3</td>\n",
       "      <td>1</td>\n",
       "      <td>0</td>\n",
       "      <td>0</td>\n",
       "      <td>0</td>\n",
       "    </tr>\n",
       "    <tr>\n",
       "      <th>8</th>\n",
       "      <td>No</td>\n",
       "      <td>38</td>\n",
       "      <td>Travel_Frequently</td>\n",
       "      <td>216</td>\n",
       "      <td>Research &amp; Development</td>\n",
       "      <td>23.0</td>\n",
       "      <td>3.0</td>\n",
       "      <td>Life Sciences</td>\n",
       "      <td>12</td>\n",
       "      <td>4</td>\n",
       "      <td>...</td>\n",
       "      <td>4</td>\n",
       "      <td>2</td>\n",
       "      <td>0</td>\n",
       "      <td>10</td>\n",
       "      <td>2</td>\n",
       "      <td>3</td>\n",
       "      <td>9</td>\n",
       "      <td>7</td>\n",
       "      <td>1</td>\n",
       "      <td>8</td>\n",
       "    </tr>\n",
       "    <tr>\n",
       "      <th>9</th>\n",
       "      <td>No</td>\n",
       "      <td>36</td>\n",
       "      <td>Travel_Rarely</td>\n",
       "      <td>1299</td>\n",
       "      <td>Research &amp; Development</td>\n",
       "      <td>1.0</td>\n",
       "      <td>3.0</td>\n",
       "      <td>Medical</td>\n",
       "      <td>13</td>\n",
       "      <td>3</td>\n",
       "      <td>...</td>\n",
       "      <td>3</td>\n",
       "      <td>2</td>\n",
       "      <td>2</td>\n",
       "      <td>17</td>\n",
       "      <td>3</td>\n",
       "      <td>2</td>\n",
       "      <td>7</td>\n",
       "      <td>7</td>\n",
       "      <td>7</td>\n",
       "      <td>7</td>\n",
       "    </tr>\n",
       "  </tbody>\n",
       "</table>\n",
       "<p>10 rows × 33 columns</p>\n",
       "</div>"
      ],
      "text/plain": [
       "  Attrition  Age     BusinessTravel  DailyRate              Department  \\\n",
       "0       Yes   41      Travel_Rarely       1102                   Sales   \n",
       "1        No   49  Travel_Frequently        279  Research & Development   \n",
       "2       Yes   37      Travel_Rarely       1373  Research & Development   \n",
       "3        No   33  Travel_Frequently       1392  Research & Development   \n",
       "4        No   27      Travel_Rarely        591  Research & Development   \n",
       "5        No   32  Travel_Frequently       1005  Research & Development   \n",
       "6        No   59      Travel_Rarely       1324  Research & Development   \n",
       "7        No   30      Travel_Rarely       1358  Research & Development   \n",
       "8        No   38  Travel_Frequently        216  Research & Development   \n",
       "9        No   36      Travel_Rarely       1299  Research & Development   \n",
       "\n",
       "   DistanceFromHome  Education EducationField  EmployeeNumber  \\\n",
       "0               1.0        2.0  Life Sciences               1   \n",
       "1               8.0        1.0  Life Sciences               2   \n",
       "2               2.0        2.0          Other               4   \n",
       "3               3.0        4.0  Life Sciences               5   \n",
       "4               2.0        1.0        Medical               7   \n",
       "5               2.0        2.0  Life Sciences               8   \n",
       "6               3.0        3.0        Medical              10   \n",
       "7              24.0        1.0  Life Sciences              11   \n",
       "8              23.0        3.0  Life Sciences              12   \n",
       "9               1.0        3.0        Medical              13   \n",
       "\n",
       "   EnvironmentSatisfaction  ... PerformanceRating  RelationshipSatisfaction  \\\n",
       "0                        2  ...                 3                         1   \n",
       "1                        3  ...                 4                         4   \n",
       "2                        4  ...                 3                         2   \n",
       "3                        4  ...                 3                         3   \n",
       "4                        1  ...                 3                         4   \n",
       "5                        4  ...                 3                         3   \n",
       "6                        3  ...                 4                         1   \n",
       "7                        4  ...                 4                         2   \n",
       "8                        4  ...                 4                         2   \n",
       "9                        3  ...                 3                         2   \n",
       "\n",
       "   StockOptionLevel  TotalWorkingYears TrainingTimesLastYear  WorkLifeBalance  \\\n",
       "0                 0                  8                     0                1   \n",
       "1                 1                 10                     3                3   \n",
       "2                 0                  7                     3                3   \n",
       "3                 0                  8                     3                3   \n",
       "4                 1                  6                     3                3   \n",
       "5                 0                  8                     2                2   \n",
       "6                 3                 12                     3                2   \n",
       "7                 1                  1                     2                3   \n",
       "8                 0                 10                     2                3   \n",
       "9                 2                 17                     3                2   \n",
       "\n",
       "  YearsAtCompany  YearsInCurrentRole  YearsSinceLastPromotion  \\\n",
       "0              6                   4                        0   \n",
       "1             10                   7                        1   \n",
       "2              0                   0                        0   \n",
       "3              8                   7                        3   \n",
       "4              2                   2                        2   \n",
       "5              7                   7                        3   \n",
       "6              1                   0                        0   \n",
       "7              1                   0                        0   \n",
       "8              9                   7                        1   \n",
       "9              7                   7                        7   \n",
       "\n",
       "   YearsWithCurrManager  \n",
       "0                     5  \n",
       "1                     7  \n",
       "2                     0  \n",
       "3                     0  \n",
       "4                     2  \n",
       "5                     6  \n",
       "6                     0  \n",
       "7                     0  \n",
       "8                     8  \n",
       "9                     7  \n",
       "\n",
       "[10 rows x 33 columns]"
      ]
     },
     "execution_count": 8,
     "metadata": {},
     "output_type": "execute_result"
    }
   ],
   "source": [
    "df.head(10)"
   ]
  },
  {
   "cell_type": "code",
   "execution_count": 9,
   "id": "e7d6aa21-696b-4374-8c04-6b8014f81332",
   "metadata": {},
   "outputs": [
    {
     "data": {
      "text/plain": [
       "Attrition                   0\n",
       "Age                         0\n",
       "BusinessTravel              0\n",
       "DailyRate                   0\n",
       "Department                  0\n",
       "DistanceFromHome            0\n",
       "Education                   0\n",
       "EducationField              0\n",
       "EmployeeNumber              0\n",
       "EnvironmentSatisfaction     0\n",
       "Gender                      0\n",
       "HourlyRate                  0\n",
       "JobInvolvement              0\n",
       "JobLevel                    0\n",
       "JobRole                     0\n",
       "JobSatisfaction             0\n",
       "MaritalStatus               0\n",
       "MonthlyIncome               0\n",
       "MonthlyRate                 0\n",
       "NumCompaniesWorked          0\n",
       "Over18                      0\n",
       "OverTime                    0\n",
       "PercentSalaryHike           0\n",
       "PerformanceRating           0\n",
       "RelationshipSatisfaction    0\n",
       "StockOptionLevel            0\n",
       "TotalWorkingYears           0\n",
       "TrainingTimesLastYear       0\n",
       "WorkLifeBalance             0\n",
       "YearsAtCompany              0\n",
       "YearsInCurrentRole          0\n",
       "YearsSinceLastPromotion     0\n",
       "YearsWithCurrManager        0\n",
       "dtype: int64"
      ]
     },
     "execution_count": 9,
     "metadata": {},
     "output_type": "execute_result"
    }
   ],
   "source": [
    "# rechecking if all the Nan got resolved\n",
    "df.isna().sum()"
   ]
  },
  {
   "cell_type": "code",
   "execution_count": 10,
   "id": "87e967e8-471e-4935-8f8f-71545322d814",
   "metadata": {},
   "outputs": [
    {
     "data": {
      "text/html": [
       "<div>\n",
       "<style scoped>\n",
       "    .dataframe tbody tr th:only-of-type {\n",
       "        vertical-align: middle;\n",
       "    }\n",
       "\n",
       "    .dataframe tbody tr th {\n",
       "        vertical-align: top;\n",
       "    }\n",
       "\n",
       "    .dataframe thead th {\n",
       "        text-align: right;\n",
       "    }\n",
       "</style>\n",
       "<table border=\"1\" class=\"dataframe\">\n",
       "  <thead>\n",
       "    <tr style=\"text-align: right;\">\n",
       "      <th></th>\n",
       "      <th>Features</th>\n",
       "      <th>Unique Number</th>\n",
       "      <th>Values</th>\n",
       "    </tr>\n",
       "  </thead>\n",
       "  <tbody>\n",
       "    <tr>\n",
       "      <th>0</th>\n",
       "      <td>Attrition</td>\n",
       "      <td>2</td>\n",
       "      <td>[Yes, No]</td>\n",
       "    </tr>\n",
       "    <tr>\n",
       "      <th>1</th>\n",
       "      <td>Age</td>\n",
       "      <td>43</td>\n",
       "      <td>[41, 49, 37, 33, 27, 32, 59, 30, 38, 36, 35, 2...</td>\n",
       "    </tr>\n",
       "    <tr>\n",
       "      <th>2</th>\n",
       "      <td>BusinessTravel</td>\n",
       "      <td>3</td>\n",
       "      <td>[Travel_Rarely, Travel_Frequently, Non-Travel]</td>\n",
       "    </tr>\n",
       "    <tr>\n",
       "      <th>3</th>\n",
       "      <td>DailyRate</td>\n",
       "      <td>886</td>\n",
       "      <td>[1102, 279, 1373, 1392, 591, 1005, 1324, 1358,...</td>\n",
       "    </tr>\n",
       "    <tr>\n",
       "      <th>4</th>\n",
       "      <td>Department</td>\n",
       "      <td>3</td>\n",
       "      <td>[Sales, Research &amp; Development, Human Resources]</td>\n",
       "    </tr>\n",
       "    <tr>\n",
       "      <th>5</th>\n",
       "      <td>DistanceFromHome</td>\n",
       "      <td>29</td>\n",
       "      <td>[1.0, 8.0, 2.0, 3.0, 24.0, 23.0, 16.0, 15.0, 2...</td>\n",
       "    </tr>\n",
       "    <tr>\n",
       "      <th>6</th>\n",
       "      <td>Education</td>\n",
       "      <td>5</td>\n",
       "      <td>[2.0, 1.0, 4.0, 3.0, 5.0]</td>\n",
       "    </tr>\n",
       "    <tr>\n",
       "      <th>7</th>\n",
       "      <td>EducationField</td>\n",
       "      <td>6</td>\n",
       "      <td>[Life Sciences, Other, Medical, Marketing, Tec...</td>\n",
       "    </tr>\n",
       "    <tr>\n",
       "      <th>8</th>\n",
       "      <td>EmployeeNumber</td>\n",
       "      <td>1470</td>\n",
       "      <td>[1, 2, 4, 5, 7, 8, 10, 11, 12, 13, 14, 15, 16,...</td>\n",
       "    </tr>\n",
       "    <tr>\n",
       "      <th>9</th>\n",
       "      <td>EnvironmentSatisfaction</td>\n",
       "      <td>4</td>\n",
       "      <td>[2, 3, 4, 1]</td>\n",
       "    </tr>\n",
       "    <tr>\n",
       "      <th>10</th>\n",
       "      <td>Gender</td>\n",
       "      <td>2</td>\n",
       "      <td>[Female, Male]</td>\n",
       "    </tr>\n",
       "    <tr>\n",
       "      <th>11</th>\n",
       "      <td>HourlyRate</td>\n",
       "      <td>71</td>\n",
       "      <td>[94.0, 61.0, 92.0, 56.0, 40.0, 79.0, 81.0, 67....</td>\n",
       "    </tr>\n",
       "    <tr>\n",
       "      <th>12</th>\n",
       "      <td>JobInvolvement</td>\n",
       "      <td>4</td>\n",
       "      <td>[3, 2, 4, 1]</td>\n",
       "    </tr>\n",
       "    <tr>\n",
       "      <th>13</th>\n",
       "      <td>JobLevel</td>\n",
       "      <td>5</td>\n",
       "      <td>[2, 1, 3, 4, 5]</td>\n",
       "    </tr>\n",
       "    <tr>\n",
       "      <th>14</th>\n",
       "      <td>JobRole</td>\n",
       "      <td>9</td>\n",
       "      <td>[Sales Executive, Research Scientist, Laborato...</td>\n",
       "    </tr>\n",
       "    <tr>\n",
       "      <th>15</th>\n",
       "      <td>JobSatisfaction</td>\n",
       "      <td>4</td>\n",
       "      <td>[4, 2, 3, 1]</td>\n",
       "    </tr>\n",
       "    <tr>\n",
       "      <th>16</th>\n",
       "      <td>MaritalStatus</td>\n",
       "      <td>3</td>\n",
       "      <td>[Single, Married, Divorced]</td>\n",
       "    </tr>\n",
       "    <tr>\n",
       "      <th>17</th>\n",
       "      <td>MonthlyIncome</td>\n",
       "      <td>1345</td>\n",
       "      <td>[5993.0, 5130.0, 2090.0, 2909.0, 3468.0, 3068....</td>\n",
       "    </tr>\n",
       "    <tr>\n",
       "      <th>18</th>\n",
       "      <td>MonthlyRate</td>\n",
       "      <td>1422</td>\n",
       "      <td>[19479.0, 24907.0, 2396.0, 23159.0, 16632.0, 1...</td>\n",
       "    </tr>\n",
       "    <tr>\n",
       "      <th>19</th>\n",
       "      <td>NumCompaniesWorked</td>\n",
       "      <td>10</td>\n",
       "      <td>[8, 1, 6, 9, 0, 4, 5, 2, 7, 3]</td>\n",
       "    </tr>\n",
       "    <tr>\n",
       "      <th>20</th>\n",
       "      <td>Over18</td>\n",
       "      <td>1</td>\n",
       "      <td>[Y]</td>\n",
       "    </tr>\n",
       "    <tr>\n",
       "      <th>21</th>\n",
       "      <td>OverTime</td>\n",
       "      <td>2</td>\n",
       "      <td>[Yes, No]</td>\n",
       "    </tr>\n",
       "    <tr>\n",
       "      <th>22</th>\n",
       "      <td>PercentSalaryHike</td>\n",
       "      <td>15</td>\n",
       "      <td>[11, 23, 15, 12, 13, 20, 22, 21, 17, 14, 16, 1...</td>\n",
       "    </tr>\n",
       "    <tr>\n",
       "      <th>23</th>\n",
       "      <td>PerformanceRating</td>\n",
       "      <td>2</td>\n",
       "      <td>[3, 4]</td>\n",
       "    </tr>\n",
       "    <tr>\n",
       "      <th>24</th>\n",
       "      <td>RelationshipSatisfaction</td>\n",
       "      <td>4</td>\n",
       "      <td>[1, 4, 2, 3]</td>\n",
       "    </tr>\n",
       "    <tr>\n",
       "      <th>25</th>\n",
       "      <td>StockOptionLevel</td>\n",
       "      <td>4</td>\n",
       "      <td>[0, 1, 3, 2]</td>\n",
       "    </tr>\n",
       "    <tr>\n",
       "      <th>26</th>\n",
       "      <td>TotalWorkingYears</td>\n",
       "      <td>40</td>\n",
       "      <td>[8, 10, 7, 6, 12, 1, 17, 5, 3, 31, 13, 0, 26, ...</td>\n",
       "    </tr>\n",
       "    <tr>\n",
       "      <th>27</th>\n",
       "      <td>TrainingTimesLastYear</td>\n",
       "      <td>7</td>\n",
       "      <td>[0, 3, 2, 5, 1, 4, 6]</td>\n",
       "    </tr>\n",
       "    <tr>\n",
       "      <th>28</th>\n",
       "      <td>WorkLifeBalance</td>\n",
       "      <td>4</td>\n",
       "      <td>[1, 3, 2, 4]</td>\n",
       "    </tr>\n",
       "    <tr>\n",
       "      <th>29</th>\n",
       "      <td>YearsAtCompany</td>\n",
       "      <td>37</td>\n",
       "      <td>[6, 10, 0, 8, 2, 7, 1, 9, 5, 4, 25, 3, 12, 14,...</td>\n",
       "    </tr>\n",
       "    <tr>\n",
       "      <th>30</th>\n",
       "      <td>YearsInCurrentRole</td>\n",
       "      <td>19</td>\n",
       "      <td>[4, 7, 0, 2, 5, 9, 8, 3, 6, 13, 1, 15, 14, 16,...</td>\n",
       "    </tr>\n",
       "    <tr>\n",
       "      <th>31</th>\n",
       "      <td>YearsSinceLastPromotion</td>\n",
       "      <td>16</td>\n",
       "      <td>[0, 1, 3, 2, 7, 4, 8, 6, 5, 15, 9, 13, 12, 10,...</td>\n",
       "    </tr>\n",
       "    <tr>\n",
       "      <th>32</th>\n",
       "      <td>YearsWithCurrManager</td>\n",
       "      <td>18</td>\n",
       "      <td>[5, 7, 0, 2, 6, 8, 3, 11, 17, 1, 4, 12, 9, 10,...</td>\n",
       "    </tr>\n",
       "  </tbody>\n",
       "</table>\n",
       "</div>"
      ],
      "text/plain": [
       "                    Features  Unique Number  \\\n",
       "0                  Attrition              2   \n",
       "1                        Age             43   \n",
       "2             BusinessTravel              3   \n",
       "3                  DailyRate            886   \n",
       "4                 Department              3   \n",
       "5           DistanceFromHome             29   \n",
       "6                  Education              5   \n",
       "7             EducationField              6   \n",
       "8             EmployeeNumber           1470   \n",
       "9    EnvironmentSatisfaction              4   \n",
       "10                    Gender              2   \n",
       "11                HourlyRate             71   \n",
       "12            JobInvolvement              4   \n",
       "13                  JobLevel              5   \n",
       "14                   JobRole              9   \n",
       "15           JobSatisfaction              4   \n",
       "16             MaritalStatus              3   \n",
       "17             MonthlyIncome           1345   \n",
       "18               MonthlyRate           1422   \n",
       "19        NumCompaniesWorked             10   \n",
       "20                    Over18              1   \n",
       "21                  OverTime              2   \n",
       "22         PercentSalaryHike             15   \n",
       "23         PerformanceRating              2   \n",
       "24  RelationshipSatisfaction              4   \n",
       "25          StockOptionLevel              4   \n",
       "26         TotalWorkingYears             40   \n",
       "27     TrainingTimesLastYear              7   \n",
       "28           WorkLifeBalance              4   \n",
       "29            YearsAtCompany             37   \n",
       "30        YearsInCurrentRole             19   \n",
       "31   YearsSinceLastPromotion             16   \n",
       "32      YearsWithCurrManager             18   \n",
       "\n",
       "                                               Values  \n",
       "0                                           [Yes, No]  \n",
       "1   [41, 49, 37, 33, 27, 32, 59, 30, 38, 36, 35, 2...  \n",
       "2      [Travel_Rarely, Travel_Frequently, Non-Travel]  \n",
       "3   [1102, 279, 1373, 1392, 591, 1005, 1324, 1358,...  \n",
       "4    [Sales, Research & Development, Human Resources]  \n",
       "5   [1.0, 8.0, 2.0, 3.0, 24.0, 23.0, 16.0, 15.0, 2...  \n",
       "6                           [2.0, 1.0, 4.0, 3.0, 5.0]  \n",
       "7   [Life Sciences, Other, Medical, Marketing, Tec...  \n",
       "8   [1, 2, 4, 5, 7, 8, 10, 11, 12, 13, 14, 15, 16,...  \n",
       "9                                        [2, 3, 4, 1]  \n",
       "10                                     [Female, Male]  \n",
       "11  [94.0, 61.0, 92.0, 56.0, 40.0, 79.0, 81.0, 67....  \n",
       "12                                       [3, 2, 4, 1]  \n",
       "13                                    [2, 1, 3, 4, 5]  \n",
       "14  [Sales Executive, Research Scientist, Laborato...  \n",
       "15                                       [4, 2, 3, 1]  \n",
       "16                        [Single, Married, Divorced]  \n",
       "17  [5993.0, 5130.0, 2090.0, 2909.0, 3468.0, 3068....  \n",
       "18  [19479.0, 24907.0, 2396.0, 23159.0, 16632.0, 1...  \n",
       "19                     [8, 1, 6, 9, 0, 4, 5, 2, 7, 3]  \n",
       "20                                                [Y]  \n",
       "21                                          [Yes, No]  \n",
       "22  [11, 23, 15, 12, 13, 20, 22, 21, 17, 14, 16, 1...  \n",
       "23                                             [3, 4]  \n",
       "24                                       [1, 4, 2, 3]  \n",
       "25                                       [0, 1, 3, 2]  \n",
       "26  [8, 10, 7, 6, 12, 1, 17, 5, 3, 31, 13, 0, 26, ...  \n",
       "27                              [0, 3, 2, 5, 1, 4, 6]  \n",
       "28                                       [1, 3, 2, 4]  \n",
       "29  [6, 10, 0, 8, 2, 7, 1, 9, 5, 4, 25, 3, 12, 14,...  \n",
       "30  [4, 7, 0, 2, 5, 9, 8, 3, 6, 13, 1, 15, 14, 16,...  \n",
       "31  [0, 1, 3, 2, 7, 4, 8, 6, 5, 15, 9, 13, 12, 10,...  \n",
       "32  [5, 7, 0, 2, 6, 8, 3, 11, 17, 1, 4, 12, 9, 10,...  "
      ]
     },
     "execution_count": 10,
     "metadata": {},
     "output_type": "execute_result"
    }
   ],
   "source": [
    "# for i in range(33):\n",
    "#     print(f'{df[df.columns[i]].name} : {df[df.columns[i]].unique()}')\n",
    "datafr=[]\n",
    "for i in df.columns:\n",
    "    datafr.append([i, df[i].nunique(), df[i].drop_duplicates().values])\n",
    "pd.DataFrame(datafr, columns = ['Features', 'Unique Number', 'Values'])"
   ]
  },
  {
   "cell_type": "markdown",
   "id": "22727505-2ace-4f43-8e7b-3448dd1ce598",
   "metadata": {
    "tags": []
   },
   "source": []
  },
  {
   "cell_type": "code",
   "execution_count": 11,
   "id": "5ca7d12a-3887-438e-b6bf-762a2d4df6ea",
   "metadata": {},
   "outputs": [
    {
     "data": {
      "text/plain": [
       "No     1233\n",
       "Yes     237\n",
       "Name: Attrition, dtype: int64"
      ]
     },
     "execution_count": 11,
     "metadata": {},
     "output_type": "execute_result"
    }
   ],
   "source": [
    "data=df.Attrition.values.tolist()\n",
    "df.Attrition.value_counts()"
   ]
  },
  {
   "cell_type": "code",
   "execution_count": 12,
   "id": "e2b44188-308b-40ae-bd7b-81515f178a6f",
   "metadata": {},
   "outputs": [
    {
     "data": {
      "text/plain": [
       "Attrition  Age  BusinessTravel  DailyRate  Department              DistanceFromHome  Education  EducationField    EmployeeNumber  EnvironmentSatisfaction  Gender  HourlyRate  JobInvolvement  JobLevel  JobRole                    JobSatisfaction  MaritalStatus  MonthlyIncome  MonthlyRate  NumCompaniesWorked  Over18  OverTime  PercentSalaryHike  PerformanceRating  RelationshipSatisfaction  StockOptionLevel  TotalWorkingYears  TrainingTimesLastYear  WorkLifeBalance  YearsAtCompany  YearsInCurrentRole  YearsSinceLastPromotion  YearsWithCurrManager\n",
       "No         18   Non-Travel      287        Research & Development  5.0               2.0        Life Sciences     1012            2                        Male    73.0        3               1         Research Scientist         4                Single         1051.0         13493.0      1                   Y       No        15                 3                  4                         0                 0                  2                      3                0               0                   0                        0                       0.00068\n",
       "           45   Travel_Rarely   1268       Sales                   4.0               2.0        Life Sciences     240             3                        Female  30.0        3               2         Sales Executive            1                Divorced       5006.0         6319.0       4                   Y       Yes       11                 3                  1                         1                 9                  3                      4                5               4                   0                        3                       0.00068\n",
       "                                1038       Research & Development  20.0              3.0        Medical           1460            2                        Male    95.0        1               3         Healthcare Representative  1                Divorced       10851.0        19863.0      2                   Y       Yes       18                 3                  2                         1                 24                 2                      3                7               7                   0                        7                       0.00068\n",
       "                                1015       Research & Development  5.0               5.0        Medical           1611            3                        Female  50.0        1               2         Laboratory Technician      1                Single         5769.0         23447.0      1                   Y       Yes       14                 3                  1                         0                 10                 3                      3                10              7                   1                        4                       0.00068\n",
       "                                1005       Research & Development  28.0              2.0        Technical Degree  1719            4                        Female  48.0        2               4         Research Director          2                Single         16704.0        17119.0      1                   Y       No        11                 3                  3                         0                 21                 2                      3                21              6                   8                        6                       0.00068\n",
       "                                                                                                                                                                                                                                                                                                                                                                                                                                                                                                                                                                         ...   \n",
       "           34   Travel_Rarely   1239       Sales                   13.0              4.0        Medical           1951            4                        Male    39.0        3               3         Sales Executive            3                Divorced       8628.0         22914.0      1                   Y       No        18                 3                  3                         1                 9                  2                      2                8               7                   1                        1                       0.00068\n",
       "                                1157       Research & Development  5.0               2.0        Medical           1696            2                        Male    57.0        2               2         Laboratory Technician      4                Married        3986.0         11912.0      1                   Y       No        14                 3                  3                         1                 15                 3                      4                15              10                  4                        13                      0.00068\n",
       "                                1153       Research & Development  1.0               2.0        Medical           110             1                        Male    94.0        3               2         Manufacturing Director     2                Married        4325.0         17736.0      1                   Y       No        15                 3                  3                         0                 5                  2                      3                5               2                   1                        3                       0.00068\n",
       "                                1130       Research & Development  3.0               3.0        Life Sciences     1658            4                        Female  66.0        3               2         Research Scientist         2                Divorced       5433.0         19332.0      1                   Y       No        12                 3                  3                         1                 11                 2                      3                11              8                   7                        9                       0.00068\n",
       "Yes        58   Travel_Rarely   601        Research & Development  7.0               4.0        Medical           1360            3                        Female  53.0        2               3         Manufacturing Director     1                Married        10008.0        12023.0      7                   Y       Yes       14                 3                  4                         0                 31                 0                      2                10              9                   5                        9                       0.00068\n",
       "Length: 1470, dtype: float64"
      ]
     },
     "execution_count": 12,
     "metadata": {},
     "output_type": "execute_result"
    }
   ],
   "source": [
    "df.value_counts(normalize = True)"
   ]
  },
  {
   "cell_type": "code",
   "execution_count": null,
   "id": "d7a92924-3c98-43fe-b431-9750d26e929c",
   "metadata": {},
   "outputs": [],
   "source": [
    "\n",
    "        "
   ]
  },
  {
   "cell_type": "markdown",
   "id": "f84db2e8-11b2-4c3c-bcf7-ce3b5096fba8",
   "metadata": {},
   "source": [
    "##### Checking Missing Data if Any"
   ]
  },
  {
   "cell_type": "code",
   "execution_count": 13,
   "id": "43d7703f-2b19-4ae8-83ca-aab858fa9ab4",
   "metadata": {},
   "outputs": [
    {
     "data": {
      "text/plain": [
       "Attrition                  0\n",
       "MonthlyIncome              0\n",
       "YearsSinceLastPromotion    0\n",
       "YearsInCurrentRole         0\n",
       "YearsAtCompany             0\n",
       "dtype: int64"
      ]
     },
     "execution_count": 13,
     "metadata": {},
     "output_type": "execute_result"
    }
   ],
   "source": [
    "df.isnull().sum().sort_values(ascending=False).head()"
   ]
  },
  {
   "cell_type": "code",
   "execution_count": 14,
   "id": "d6128448-0e2c-44ba-bd49-5b8316c1bcc4",
   "metadata": {},
   "outputs": [
    {
     "data": {
      "text/plain": [
       "Attrition                  0\n",
       "MonthlyIncome              0\n",
       "YearsSinceLastPromotion    0\n",
       "YearsInCurrentRole         0\n",
       "YearsAtCompany             0\n",
       "dtype: int64"
      ]
     },
     "execution_count": 14,
     "metadata": {},
     "output_type": "execute_result"
    }
   ],
   "source": [
    "df.isna().sum().sort_values(ascending=False).head()"
   ]
  },
  {
   "cell_type": "markdown",
   "id": "b5f80dbc-7058-491b-8bc2-6dc1111f8b44",
   "metadata": {},
   "source": [
    "#### So there is no missing data ,let's check the data for any outliers and NAN text "
   ]
  },
  {
   "cell_type": "code",
   "execution_count": 15,
   "id": "97df41e2-6570-477d-af43-c7f27ddf80f8",
   "metadata": {},
   "outputs": [
    {
     "data": {
      "text/html": [
       "<div>\n",
       "<style scoped>\n",
       "    .dataframe tbody tr th:only-of-type {\n",
       "        vertical-align: middle;\n",
       "    }\n",
       "\n",
       "    .dataframe tbody tr th {\n",
       "        vertical-align: top;\n",
       "    }\n",
       "\n",
       "    .dataframe thead th {\n",
       "        text-align: right;\n",
       "    }\n",
       "</style>\n",
       "<table border=\"1\" class=\"dataframe\">\n",
       "  <thead>\n",
       "    <tr style=\"text-align: right;\">\n",
       "      <th></th>\n",
       "      <th>Age</th>\n",
       "      <th>DailyRate</th>\n",
       "      <th>DistanceFromHome</th>\n",
       "      <th>Education</th>\n",
       "      <th>EmployeeNumber</th>\n",
       "      <th>EnvironmentSatisfaction</th>\n",
       "      <th>HourlyRate</th>\n",
       "      <th>JobInvolvement</th>\n",
       "      <th>JobLevel</th>\n",
       "      <th>JobSatisfaction</th>\n",
       "      <th>...</th>\n",
       "      <th>PerformanceRating</th>\n",
       "      <th>RelationshipSatisfaction</th>\n",
       "      <th>StockOptionLevel</th>\n",
       "      <th>TotalWorkingYears</th>\n",
       "      <th>TrainingTimesLastYear</th>\n",
       "      <th>WorkLifeBalance</th>\n",
       "      <th>YearsAtCompany</th>\n",
       "      <th>YearsInCurrentRole</th>\n",
       "      <th>YearsSinceLastPromotion</th>\n",
       "      <th>YearsWithCurrManager</th>\n",
       "    </tr>\n",
       "  </thead>\n",
       "  <tbody>\n",
       "    <tr>\n",
       "      <th>count</th>\n",
       "      <td>1470.000000</td>\n",
       "      <td>1470.000000</td>\n",
       "      <td>1470.000000</td>\n",
       "      <td>1470.000000</td>\n",
       "      <td>1470.000000</td>\n",
       "      <td>1470.000000</td>\n",
       "      <td>1470.000000</td>\n",
       "      <td>1470.000000</td>\n",
       "      <td>1470.000000</td>\n",
       "      <td>1470.000000</td>\n",
       "      <td>...</td>\n",
       "      <td>1470.000000</td>\n",
       "      <td>1470.000000</td>\n",
       "      <td>1470.000000</td>\n",
       "      <td>1470.000000</td>\n",
       "      <td>1470.000000</td>\n",
       "      <td>1470.000000</td>\n",
       "      <td>1470.000000</td>\n",
       "      <td>1470.000000</td>\n",
       "      <td>1470.000000</td>\n",
       "      <td>1470.000000</td>\n",
       "    </tr>\n",
       "    <tr>\n",
       "      <th>mean</th>\n",
       "      <td>36.923810</td>\n",
       "      <td>802.485714</td>\n",
       "      <td>9.136735</td>\n",
       "      <td>2.911565</td>\n",
       "      <td>1024.865306</td>\n",
       "      <td>2.721769</td>\n",
       "      <td>65.762585</td>\n",
       "      <td>2.729932</td>\n",
       "      <td>2.063946</td>\n",
       "      <td>2.728571</td>\n",
       "      <td>...</td>\n",
       "      <td>3.153741</td>\n",
       "      <td>2.712245</td>\n",
       "      <td>0.793878</td>\n",
       "      <td>11.279592</td>\n",
       "      <td>2.799320</td>\n",
       "      <td>2.761224</td>\n",
       "      <td>7.008163</td>\n",
       "      <td>4.229252</td>\n",
       "      <td>2.187755</td>\n",
       "      <td>4.123129</td>\n",
       "    </tr>\n",
       "    <tr>\n",
       "      <th>std</th>\n",
       "      <td>9.135373</td>\n",
       "      <td>403.509100</td>\n",
       "      <td>8.080581</td>\n",
       "      <td>1.025377</td>\n",
       "      <td>602.024335</td>\n",
       "      <td>1.093082</td>\n",
       "      <td>20.405257</td>\n",
       "      <td>0.711561</td>\n",
       "      <td>1.106940</td>\n",
       "      <td>1.102846</td>\n",
       "      <td>...</td>\n",
       "      <td>0.360824</td>\n",
       "      <td>1.081209</td>\n",
       "      <td>0.852077</td>\n",
       "      <td>7.780782</td>\n",
       "      <td>1.289271</td>\n",
       "      <td>0.706476</td>\n",
       "      <td>6.126525</td>\n",
       "      <td>3.623137</td>\n",
       "      <td>3.222430</td>\n",
       "      <td>3.568136</td>\n",
       "    </tr>\n",
       "    <tr>\n",
       "      <th>min</th>\n",
       "      <td>18.000000</td>\n",
       "      <td>102.000000</td>\n",
       "      <td>1.000000</td>\n",
       "      <td>1.000000</td>\n",
       "      <td>1.000000</td>\n",
       "      <td>1.000000</td>\n",
       "      <td>30.000000</td>\n",
       "      <td>1.000000</td>\n",
       "      <td>1.000000</td>\n",
       "      <td>1.000000</td>\n",
       "      <td>...</td>\n",
       "      <td>3.000000</td>\n",
       "      <td>1.000000</td>\n",
       "      <td>0.000000</td>\n",
       "      <td>0.000000</td>\n",
       "      <td>0.000000</td>\n",
       "      <td>1.000000</td>\n",
       "      <td>0.000000</td>\n",
       "      <td>0.000000</td>\n",
       "      <td>0.000000</td>\n",
       "      <td>0.000000</td>\n",
       "    </tr>\n",
       "    <tr>\n",
       "      <th>25%</th>\n",
       "      <td>30.000000</td>\n",
       "      <td>465.000000</td>\n",
       "      <td>2.000000</td>\n",
       "      <td>2.000000</td>\n",
       "      <td>491.250000</td>\n",
       "      <td>2.000000</td>\n",
       "      <td>48.000000</td>\n",
       "      <td>2.000000</td>\n",
       "      <td>1.000000</td>\n",
       "      <td>2.000000</td>\n",
       "      <td>...</td>\n",
       "      <td>3.000000</td>\n",
       "      <td>2.000000</td>\n",
       "      <td>0.000000</td>\n",
       "      <td>6.000000</td>\n",
       "      <td>2.000000</td>\n",
       "      <td>2.000000</td>\n",
       "      <td>3.000000</td>\n",
       "      <td>2.000000</td>\n",
       "      <td>0.000000</td>\n",
       "      <td>2.000000</td>\n",
       "    </tr>\n",
       "    <tr>\n",
       "      <th>50%</th>\n",
       "      <td>36.000000</td>\n",
       "      <td>802.000000</td>\n",
       "      <td>7.000000</td>\n",
       "      <td>3.000000</td>\n",
       "      <td>1020.500000</td>\n",
       "      <td>3.000000</td>\n",
       "      <td>66.000000</td>\n",
       "      <td>3.000000</td>\n",
       "      <td>2.000000</td>\n",
       "      <td>3.000000</td>\n",
       "      <td>...</td>\n",
       "      <td>3.000000</td>\n",
       "      <td>3.000000</td>\n",
       "      <td>1.000000</td>\n",
       "      <td>10.000000</td>\n",
       "      <td>3.000000</td>\n",
       "      <td>3.000000</td>\n",
       "      <td>5.000000</td>\n",
       "      <td>3.000000</td>\n",
       "      <td>1.000000</td>\n",
       "      <td>3.000000</td>\n",
       "    </tr>\n",
       "    <tr>\n",
       "      <th>75%</th>\n",
       "      <td>43.000000</td>\n",
       "      <td>1157.000000</td>\n",
       "      <td>14.000000</td>\n",
       "      <td>4.000000</td>\n",
       "      <td>1555.750000</td>\n",
       "      <td>4.000000</td>\n",
       "      <td>83.000000</td>\n",
       "      <td>3.000000</td>\n",
       "      <td>3.000000</td>\n",
       "      <td>4.000000</td>\n",
       "      <td>...</td>\n",
       "      <td>3.000000</td>\n",
       "      <td>4.000000</td>\n",
       "      <td>1.000000</td>\n",
       "      <td>15.000000</td>\n",
       "      <td>3.000000</td>\n",
       "      <td>3.000000</td>\n",
       "      <td>9.000000</td>\n",
       "      <td>7.000000</td>\n",
       "      <td>3.000000</td>\n",
       "      <td>7.000000</td>\n",
       "    </tr>\n",
       "    <tr>\n",
       "      <th>max</th>\n",
       "      <td>60.000000</td>\n",
       "      <td>1499.000000</td>\n",
       "      <td>29.000000</td>\n",
       "      <td>5.000000</td>\n",
       "      <td>2068.000000</td>\n",
       "      <td>4.000000</td>\n",
       "      <td>100.000000</td>\n",
       "      <td>4.000000</td>\n",
       "      <td>5.000000</td>\n",
       "      <td>4.000000</td>\n",
       "      <td>...</td>\n",
       "      <td>4.000000</td>\n",
       "      <td>4.000000</td>\n",
       "      <td>3.000000</td>\n",
       "      <td>40.000000</td>\n",
       "      <td>6.000000</td>\n",
       "      <td>4.000000</td>\n",
       "      <td>40.000000</td>\n",
       "      <td>18.000000</td>\n",
       "      <td>15.000000</td>\n",
       "      <td>17.000000</td>\n",
       "    </tr>\n",
       "  </tbody>\n",
       "</table>\n",
       "<p>8 rows × 24 columns</p>\n",
       "</div>"
      ],
      "text/plain": [
       "               Age    DailyRate  DistanceFromHome    Education  \\\n",
       "count  1470.000000  1470.000000       1470.000000  1470.000000   \n",
       "mean     36.923810   802.485714          9.136735     2.911565   \n",
       "std       9.135373   403.509100          8.080581     1.025377   \n",
       "min      18.000000   102.000000          1.000000     1.000000   \n",
       "25%      30.000000   465.000000          2.000000     2.000000   \n",
       "50%      36.000000   802.000000          7.000000     3.000000   \n",
       "75%      43.000000  1157.000000         14.000000     4.000000   \n",
       "max      60.000000  1499.000000         29.000000     5.000000   \n",
       "\n",
       "       EmployeeNumber  EnvironmentSatisfaction   HourlyRate  JobInvolvement  \\\n",
       "count     1470.000000              1470.000000  1470.000000     1470.000000   \n",
       "mean      1024.865306                 2.721769    65.762585        2.729932   \n",
       "std        602.024335                 1.093082    20.405257        0.711561   \n",
       "min          1.000000                 1.000000    30.000000        1.000000   \n",
       "25%        491.250000                 2.000000    48.000000        2.000000   \n",
       "50%       1020.500000                 3.000000    66.000000        3.000000   \n",
       "75%       1555.750000                 4.000000    83.000000        3.000000   \n",
       "max       2068.000000                 4.000000   100.000000        4.000000   \n",
       "\n",
       "          JobLevel  JobSatisfaction  ...  PerformanceRating  \\\n",
       "count  1470.000000      1470.000000  ...        1470.000000   \n",
       "mean      2.063946         2.728571  ...           3.153741   \n",
       "std       1.106940         1.102846  ...           0.360824   \n",
       "min       1.000000         1.000000  ...           3.000000   \n",
       "25%       1.000000         2.000000  ...           3.000000   \n",
       "50%       2.000000         3.000000  ...           3.000000   \n",
       "75%       3.000000         4.000000  ...           3.000000   \n",
       "max       5.000000         4.000000  ...           4.000000   \n",
       "\n",
       "       RelationshipSatisfaction  StockOptionLevel  TotalWorkingYears  \\\n",
       "count               1470.000000       1470.000000        1470.000000   \n",
       "mean                   2.712245          0.793878          11.279592   \n",
       "std                    1.081209          0.852077           7.780782   \n",
       "min                    1.000000          0.000000           0.000000   \n",
       "25%                    2.000000          0.000000           6.000000   \n",
       "50%                    3.000000          1.000000          10.000000   \n",
       "75%                    4.000000          1.000000          15.000000   \n",
       "max                    4.000000          3.000000          40.000000   \n",
       "\n",
       "       TrainingTimesLastYear  WorkLifeBalance  YearsAtCompany  \\\n",
       "count            1470.000000      1470.000000     1470.000000   \n",
       "mean                2.799320         2.761224        7.008163   \n",
       "std                 1.289271         0.706476        6.126525   \n",
       "min                 0.000000         1.000000        0.000000   \n",
       "25%                 2.000000         2.000000        3.000000   \n",
       "50%                 3.000000         3.000000        5.000000   \n",
       "75%                 3.000000         3.000000        9.000000   \n",
       "max                 6.000000         4.000000       40.000000   \n",
       "\n",
       "       YearsInCurrentRole  YearsSinceLastPromotion  YearsWithCurrManager  \n",
       "count         1470.000000              1470.000000           1470.000000  \n",
       "mean             4.229252                 2.187755              4.123129  \n",
       "std              3.623137                 3.222430              3.568136  \n",
       "min              0.000000                 0.000000              0.000000  \n",
       "25%              2.000000                 0.000000              2.000000  \n",
       "50%              3.000000                 1.000000              3.000000  \n",
       "75%              7.000000                 3.000000              7.000000  \n",
       "max             18.000000                15.000000             17.000000  \n",
       "\n",
       "[8 rows x 24 columns]"
      ]
     },
     "execution_count": 15,
     "metadata": {},
     "output_type": "execute_result"
    }
   ],
   "source": [
    "df.describe()"
   ]
  },
  {
   "cell_type": "markdown",
   "id": "a5ddb2cc-053e-46bd-b6aa-a1df2a5712e1",
   "metadata": {},
   "source": [
    "1) Income related\n",
    "continuous features - Daily Rate, Hourly Rate, Monthly Income, Monthly Rate\n",
    "categorical features - Stock Option Level, Job Level, Job Role, Department\n",
    "2) Job Satisfaction - Job Involvement, Environment Satisfaction, Job Satisfaction, Work Life Balance, RelationShip Satisfaction, Performance Rating, Distance From Home, Percent Salary Hike\n",
    "3) Demographics - Age, Education, Ed. Field, Gender, Marital Status\n",
    "4) Work-Place - Years At Company, Years In Current Role, Years Since Last Promotion, Years With Current Manager, Business Travel, Num Companies Worked, Over Time, Total Working Years, Training Times Last Year\n",
    "and specific category with already redundant variables\n",
    "5) Others - Emloyee Number, Employee Count, Over 18, Standard Hours"
   ]
  },
  {
   "cell_type": "markdown",
   "id": "a78f1226-e88c-4fbe-9409-ab70ddebc572",
   "metadata": {},
   "source": [
    "##### Removing the Redundant Columns\n",
    "##### EmployeeNumber,Over18\n",
    "##### As employeeno unique to each column and all employee are over 18 "
   ]
  },
  {
   "cell_type": "markdown",
   "id": "0c10e5a4-67fe-412a-b2fe-59e3ce04e1a6",
   "metadata": {},
   "source": [
    "=> Now checking the distribution of datset"
   ]
  },
  {
   "cell_type": "code",
   "execution_count": 16,
   "id": "eedff2c6-6e60-4d0f-b78c-f8cffe0108ef",
   "metadata": {},
   "outputs": [],
   "source": [
    "df.drop(columns=['EmployeeNumber', 'Over18'], inplace=True)\n"
   ]
  },
  {
   "cell_type": "code",
   "execution_count": 17,
   "id": "577582e5-f0fa-459f-b180-0dffa4ae75c5",
   "metadata": {},
   "outputs": [
    {
     "data": {
      "text/plain": [
       "(1470, 31)"
      ]
     },
     "execution_count": 17,
     "metadata": {},
     "output_type": "execute_result"
    }
   ],
   "source": [
    "df.shape"
   ]
  },
  {
   "cell_type": "code",
   "execution_count": 18,
   "id": "8b1c9534-3784-44e8-86bb-9d45c708ee68",
   "metadata": {},
   "outputs": [],
   "source": [
    "df.Attrition.replace(to_replace = dict(Yes = 1, No = 0), inplace = True)"
   ]
  },
  {
   "cell_type": "code",
   "execution_count": 19,
   "id": "d33cb6c5-a45d-42e3-9fa7-caa75503a95b",
   "metadata": {},
   "outputs": [
    {
     "data": {
      "text/html": [
       "<div>\n",
       "<style scoped>\n",
       "    .dataframe tbody tr th:only-of-type {\n",
       "        vertical-align: middle;\n",
       "    }\n",
       "\n",
       "    .dataframe tbody tr th {\n",
       "        vertical-align: top;\n",
       "    }\n",
       "\n",
       "    .dataframe thead th {\n",
       "        text-align: right;\n",
       "    }\n",
       "</style>\n",
       "<table border=\"1\" class=\"dataframe\">\n",
       "  <thead>\n",
       "    <tr style=\"text-align: right;\">\n",
       "      <th></th>\n",
       "      <th>Attrition</th>\n",
       "      <th>Age</th>\n",
       "      <th>BusinessTravel</th>\n",
       "      <th>DailyRate</th>\n",
       "      <th>Department</th>\n",
       "      <th>DistanceFromHome</th>\n",
       "      <th>Education</th>\n",
       "      <th>EducationField</th>\n",
       "      <th>EnvironmentSatisfaction</th>\n",
       "      <th>Gender</th>\n",
       "      <th>...</th>\n",
       "      <th>PerformanceRating</th>\n",
       "      <th>RelationshipSatisfaction</th>\n",
       "      <th>StockOptionLevel</th>\n",
       "      <th>TotalWorkingYears</th>\n",
       "      <th>TrainingTimesLastYear</th>\n",
       "      <th>WorkLifeBalance</th>\n",
       "      <th>YearsAtCompany</th>\n",
       "      <th>YearsInCurrentRole</th>\n",
       "      <th>YearsSinceLastPromotion</th>\n",
       "      <th>YearsWithCurrManager</th>\n",
       "    </tr>\n",
       "  </thead>\n",
       "  <tbody>\n",
       "    <tr>\n",
       "      <th>0</th>\n",
       "      <td>1</td>\n",
       "      <td>41</td>\n",
       "      <td>Travel_Rarely</td>\n",
       "      <td>1102</td>\n",
       "      <td>Sales</td>\n",
       "      <td>1.0</td>\n",
       "      <td>2.0</td>\n",
       "      <td>Life Sciences</td>\n",
       "      <td>2</td>\n",
       "      <td>Female</td>\n",
       "      <td>...</td>\n",
       "      <td>3</td>\n",
       "      <td>1</td>\n",
       "      <td>0</td>\n",
       "      <td>8</td>\n",
       "      <td>0</td>\n",
       "      <td>1</td>\n",
       "      <td>6</td>\n",
       "      <td>4</td>\n",
       "      <td>0</td>\n",
       "      <td>5</td>\n",
       "    </tr>\n",
       "    <tr>\n",
       "      <th>1</th>\n",
       "      <td>0</td>\n",
       "      <td>49</td>\n",
       "      <td>Travel_Frequently</td>\n",
       "      <td>279</td>\n",
       "      <td>Research &amp; Development</td>\n",
       "      <td>8.0</td>\n",
       "      <td>1.0</td>\n",
       "      <td>Life Sciences</td>\n",
       "      <td>3</td>\n",
       "      <td>Male</td>\n",
       "      <td>...</td>\n",
       "      <td>4</td>\n",
       "      <td>4</td>\n",
       "      <td>1</td>\n",
       "      <td>10</td>\n",
       "      <td>3</td>\n",
       "      <td>3</td>\n",
       "      <td>10</td>\n",
       "      <td>7</td>\n",
       "      <td>1</td>\n",
       "      <td>7</td>\n",
       "    </tr>\n",
       "    <tr>\n",
       "      <th>2</th>\n",
       "      <td>1</td>\n",
       "      <td>37</td>\n",
       "      <td>Travel_Rarely</td>\n",
       "      <td>1373</td>\n",
       "      <td>Research &amp; Development</td>\n",
       "      <td>2.0</td>\n",
       "      <td>2.0</td>\n",
       "      <td>Other</td>\n",
       "      <td>4</td>\n",
       "      <td>Male</td>\n",
       "      <td>...</td>\n",
       "      <td>3</td>\n",
       "      <td>2</td>\n",
       "      <td>0</td>\n",
       "      <td>7</td>\n",
       "      <td>3</td>\n",
       "      <td>3</td>\n",
       "      <td>0</td>\n",
       "      <td>0</td>\n",
       "      <td>0</td>\n",
       "      <td>0</td>\n",
       "    </tr>\n",
       "    <tr>\n",
       "      <th>3</th>\n",
       "      <td>0</td>\n",
       "      <td>33</td>\n",
       "      <td>Travel_Frequently</td>\n",
       "      <td>1392</td>\n",
       "      <td>Research &amp; Development</td>\n",
       "      <td>3.0</td>\n",
       "      <td>4.0</td>\n",
       "      <td>Life Sciences</td>\n",
       "      <td>4</td>\n",
       "      <td>Female</td>\n",
       "      <td>...</td>\n",
       "      <td>3</td>\n",
       "      <td>3</td>\n",
       "      <td>0</td>\n",
       "      <td>8</td>\n",
       "      <td>3</td>\n",
       "      <td>3</td>\n",
       "      <td>8</td>\n",
       "      <td>7</td>\n",
       "      <td>3</td>\n",
       "      <td>0</td>\n",
       "    </tr>\n",
       "    <tr>\n",
       "      <th>4</th>\n",
       "      <td>0</td>\n",
       "      <td>27</td>\n",
       "      <td>Travel_Rarely</td>\n",
       "      <td>591</td>\n",
       "      <td>Research &amp; Development</td>\n",
       "      <td>2.0</td>\n",
       "      <td>1.0</td>\n",
       "      <td>Medical</td>\n",
       "      <td>1</td>\n",
       "      <td>Male</td>\n",
       "      <td>...</td>\n",
       "      <td>3</td>\n",
       "      <td>4</td>\n",
       "      <td>1</td>\n",
       "      <td>6</td>\n",
       "      <td>3</td>\n",
       "      <td>3</td>\n",
       "      <td>2</td>\n",
       "      <td>2</td>\n",
       "      <td>2</td>\n",
       "      <td>2</td>\n",
       "    </tr>\n",
       "  </tbody>\n",
       "</table>\n",
       "<p>5 rows × 31 columns</p>\n",
       "</div>"
      ],
      "text/plain": [
       "   Attrition  Age     BusinessTravel  DailyRate              Department  \\\n",
       "0          1   41      Travel_Rarely       1102                   Sales   \n",
       "1          0   49  Travel_Frequently        279  Research & Development   \n",
       "2          1   37      Travel_Rarely       1373  Research & Development   \n",
       "3          0   33  Travel_Frequently       1392  Research & Development   \n",
       "4          0   27      Travel_Rarely        591  Research & Development   \n",
       "\n",
       "   DistanceFromHome  Education EducationField  EnvironmentSatisfaction  \\\n",
       "0               1.0        2.0  Life Sciences                        2   \n",
       "1               8.0        1.0  Life Sciences                        3   \n",
       "2               2.0        2.0          Other                        4   \n",
       "3               3.0        4.0  Life Sciences                        4   \n",
       "4               2.0        1.0        Medical                        1   \n",
       "\n",
       "   Gender  ...  PerformanceRating  RelationshipSatisfaction  StockOptionLevel  \\\n",
       "0  Female  ...                  3                         1                 0   \n",
       "1    Male  ...                  4                         4                 1   \n",
       "2    Male  ...                  3                         2                 0   \n",
       "3  Female  ...                  3                         3                 0   \n",
       "4    Male  ...                  3                         4                 1   \n",
       "\n",
       "  TotalWorkingYears  TrainingTimesLastYear WorkLifeBalance  YearsAtCompany  \\\n",
       "0                 8                      0               1               6   \n",
       "1                10                      3               3              10   \n",
       "2                 7                      3               3               0   \n",
       "3                 8                      3               3               8   \n",
       "4                 6                      3               3               2   \n",
       "\n",
       "   YearsInCurrentRole  YearsSinceLastPromotion YearsWithCurrManager  \n",
       "0                   4                        0                    5  \n",
       "1                   7                        1                    7  \n",
       "2                   0                        0                    0  \n",
       "3                   7                        3                    0  \n",
       "4                   2                        2                    2  \n",
       "\n",
       "[5 rows x 31 columns]"
      ]
     },
     "execution_count": 19,
     "metadata": {},
     "output_type": "execute_result"
    }
   ],
   "source": [
    "df.head()"
   ]
  },
  {
   "cell_type": "markdown",
   "id": "58a787ff-405f-4322-8f08-5ca5a42295a3",
   "metadata": {},
   "source": [
    "### Exploration Data Analysis - exploring the data and checking the distribution"
   ]
  },
  {
   "cell_type": "code",
   "execution_count": 20,
   "id": "d16a168a-4201-4f7b-be55-0142c8a9c545",
   "metadata": {},
   "outputs": [
    {
     "data": {
      "text/plain": [
       "<AxesSubplot:ylabel='BusinessTravel'>"
      ]
     },
     "execution_count": 20,
     "metadata": {},
     "output_type": "execute_result"
    },
    {
     "data": {
      "image/png": "[encoded data removed]",
      "text/plain": [
       "<Figure size 432x288 with 1 Axes>"
      ]
     },
     "metadata": {},
     "output_type": "display_data"
    }
   ],
   "source": [
    "df['BusinessTravel'].value_counts().plot.pie(autopct='%1.1f%%')"
   ]
  },
  {
   "cell_type": "code",
   "execution_count": 21,
   "id": "bab67e7e-9492-4e94-8e2d-aa910e35faab",
   "metadata": {},
   "outputs": [
    {
     "data": {
      "text/plain": [
       "<AxesSubplot:ylabel='MaritalStatus'>"
      ]
     },
     "execution_count": 21,
     "metadata": {},
     "output_type": "execute_result"
    },
    {
     "data": {
      "image/png": "[encoded data removed]",
      "text/plain": [
       "<Figure size 1656x936 with 1 Axes>"
      ]
     },
     "metadata": {},
     "output_type": "display_data"
    }
   ],
   "source": [
    "plt.figure(figsize=(23,13))\n",
    "plt.subplot(1,1,1)\n",
    "plt.subplot(2,2,2)\n",
    "plt.subplot(3,3,3)\n",
    "plt.subplot(4,3,3)\n",
    "df['MaritalStatus'].value_counts().plot.pie(autopct='%1.1f%%')"
   ]
  },
  {
   "cell_type": "code",
   "execution_count": 67,
   "id": "41b83243-e320-46a7-a72a-cc9c6fb842d3",
   "metadata": {},
   "outputs": [
    {
     "data": {
      "text/plain": [
       "<AxesSubplot:ylabel='Gender'>"
      ]
     },
     "execution_count": 67,
     "metadata": {},
     "output_type": "execute_result"
    },
    {
     "data": {
      "image/png": "[encoded data removed]",
      "text/plain": [
       "<Figure size 432x288 with 1 Axes>"
      ]
     },
     "metadata": {},
     "output_type": "display_data"
    }
   ],
   "source": [
    "df['Gender'].value_counts().plot.pie(autopct='%1.1f%%')\n"
   ]
  },
  {
   "cell_type": "code",
   "execution_count": 24,
   "id": "c1509978-6bd3-4e54-8e82-0ece240de4d3",
   "metadata": {},
   "outputs": [
    {
     "data": {
      "text/plain": [
       "<AxesSubplot:ylabel='Attrition'>"
      ]
     },
     "execution_count": 24,
     "metadata": {},
     "output_type": "execute_result"
    },
    {
     "data": {
      "image/png": "[encoded data removed]",
      "text/plain": [
       "<Figure size 432x288 with 1 Axes>"
      ]
     },
     "metadata": {},
     "output_type": "display_data"
    }
   ],
   "source": [
    "df['Attrition'].value_counts().plot.pie(autopct='%1.2f%%')\n"
   ]
  },
  {
   "cell_type": "markdown",
   "id": "ec53ea0e-ad47-4f03-8e1d-1a63df55b1dc",
   "metadata": {},
   "source": [
    "##### From the pie chart we are analyzing that around the rate of attrition is 16.12% and \n",
    "-------------\n",
    "##### From Here we are relating the columns with Attrition and checking which column is more affected to attrition"
   ]
  },
  {
   "cell_type": "code",
   "execution_count": 25,
   "id": "59772e4c-ec1c-4895-b497-9fb3ae92fdb1",
   "metadata": {},
   "outputs": [
    {
     "data": {
      "text/plain": [
       "<AxesSubplot:xlabel='Attrition', ylabel='count'>"
      ]
     },
     "execution_count": 25,
     "metadata": {},
     "output_type": "execute_result"
    },
    {
     "data": {
      "image/png": "[encoded data removed]",
      "text/plain": [
       "<Figure size 432x288 with 1 Axes>"
      ]
     },
     "metadata": {
      "needs_background": "light"
     },
     "output_type": "display_data"
    }
   ],
   "source": [
    "\n",
    "sns.countplot(x='Attrition', hue='Gender', palette = \"rocket\", data=df)\n",
    "# Yes-1 No,-2"
   ]
  },
  {
   "cell_type": "code",
   "execution_count": 26,
   "id": "7c586661-4f30-4243-a5e9-d853df97cc77",
   "metadata": {},
   "outputs": [
    {
     "data": {
      "text/plain": [
       "<AxesSubplot:xlabel='Attrition', ylabel='count'>"
      ]
     },
     "execution_count": 26,
     "metadata": {},
     "output_type": "execute_result"
    },
    {
     "data": {
      "image/png": "[encoded data removed]",
      "text/plain": [
       "<Figure size 432x288 with 1 Axes>"
      ]
     },
     "metadata": {
      "needs_background": "light"
     },
     "output_type": "display_data"
    }
   ],
   "source": [
    "### as you can see the attrition is among male as compared to female\n",
    "\n",
    "sns.countplot(x='Attrition', hue='MaritalStatus', palette = \"rocket\", data=df)"
   ]
  },
  {
   "cell_type": "markdown",
   "id": "3c4eacf5-3a91-4e76-8540-264255226cd2",
   "metadata": {},
   "source": [
    "##### also it is greater among singles"
   ]
  },
  {
   "cell_type": "code",
   "execution_count": 27,
   "id": "4c02fc8a-d180-4689-ae6a-ced5f71b5bd6",
   "metadata": {},
   "outputs": [
    {
     "data": {
      "image/png": "[encoded data removed]",
      "text/plain": [
       "<Figure size 432x288 with 1 Axes>"
      ]
     },
     "metadata": {
      "needs_background": "light"
     },
     "output_type": "display_data"
    }
   ],
   "source": [
    "sns.countplot(x='Attrition', hue='Department', palette = \"rocket\", data=df);"
   ]
  },
  {
   "cell_type": "code",
   "execution_count": 48,
   "id": "91f0e039-8a5b-4eb2-91ec-59a87f1b7a43",
   "metadata": {},
   "outputs": [
    {
     "data": {
      "image/png": "[encoded data removed]",
      "text/plain": [
       "<Figure size 1080x360 with 1 Axes>"
      ]
     },
     "metadata": {
      "needs_background": "light"
     },
     "output_type": "display_data"
    }
   ],
   "source": [
    "plt.figure(figsize=(15,5))\n",
    "sns.countplot(x='Attrition', hue='JobRole', palette = \"rocket\", data=df);"
   ]
  },
  {
   "cell_type": "code",
   "execution_count": 32,
   "id": "c0268086-702d-4151-ac5d-bd74e4f42d1c",
   "metadata": {},
   "outputs": [
    {
     "data": {
      "image/png": "[encoded data removed]",
      "text/plain": [
       "<Figure size 432x288 with 1 Axes>"
      ]
     },
     "metadata": {
      "needs_background": "light"
     },
     "output_type": "display_data"
    }
   ],
   "source": [
    "sns.countplot(x='Attrition', hue='OverTime', palette = \"magma\", data=df);"
   ]
  },
  {
   "cell_type": "code",
   "execution_count": 64,
   "id": "3ecec1a1-0946-4dea-abd4-eb892be4e78e",
   "metadata": {},
   "outputs": [
    {
     "data": {
      "text/plain": [
       "(array([0, 1, 2, 3, 4, 5]),\n",
       " [Text(0, 0, 'Life Sciences'),\n",
       "  Text(1, 0, 'Other'),\n",
       "  Text(2, 0, 'Medical'),\n",
       "  Text(3, 0, 'Marketing'),\n",
       "  Text(4, 0, 'Technical Degree'),\n",
       "  Text(5, 0, 'Human Resources')])"
      ]
     },
     "execution_count": 64,
     "metadata": {},
     "output_type": "execute_result"
    },
    {
     "data": {
      "image/png": "[encoded data removed]",
      "text/plain": [
       "<Figure size 1080x360 with 2 Axes>"
      ]
     },
     "metadata": {
      "needs_background": "light"
     },
     "output_type": "display_data"
    }
   ],
   "source": [
    "# sns.countplot(x='Attrition', hue='EducationField', palette = \"magma\", data=df);\n",
    "plt.figure(figsize=(15,5))\n",
    "plt.subplot(1,2,1)\n",
    "df['EducationField'].value_counts().plot.pie(autopct='%1.1f%%')\n",
    "plt.subplot(1,2,2)\n",
    "sns.countplot(x=df['EducationField'],palette = \"magma\")\n",
    "plt.xticks(rotation=45)"
   ]
  },
  {
   "cell_type": "code",
   "execution_count": 34,
   "id": "42667338-4cb7-4d91-b870-53a3494ae714",
   "metadata": {},
   "outputs": [
    {
     "data": {
      "image/png": "[encoded data removed]",
      "text/plain": [
       "<Figure size 432x288 with 1 Axes>"
      ]
     },
     "metadata": {
      "needs_background": "light"
     },
     "output_type": "display_data"
    }
   ],
   "source": [
    "sns.countplot(x='Attrition', hue='Education', palette = \"magma\", data=df);"
   ]
  },
  {
   "cell_type": "code",
   "execution_count": 36,
   "id": "92f7cef4-5c45-48e8-b490-d2b5646bb1b5",
   "metadata": {},
   "outputs": [
    {
     "data": {
      "image/png": "[encoded data removed]",
      "text/plain": [
       "<Figure size 432x288 with 1 Axes>"
      ]
     },
     "metadata": {
      "needs_background": "light"
     },
     "output_type": "display_data"
    }
   ],
   "source": [
    "sns.countplot(x='Attrition', hue='JobSatisfaction', palette = \"magma\", data=df);"
   ]
  },
  {
   "cell_type": "code",
   "execution_count": 37,
   "id": "41072e80-80e4-4f8e-acf7-a669e5bb33c1",
   "metadata": {},
   "outputs": [
    {
     "data": {
      "image/png": "[encoded data removed]",
      "text/plain": [
       "<Figure size 432x288 with 1 Axes>"
      ]
     },
     "metadata": {
      "needs_background": "light"
     },
     "output_type": "display_data"
    }
   ],
   "source": [
    "sns.countplot(x='Attrition', hue='PerformanceRating', palette = \"magma\", data=df);"
   ]
  },
  {
   "cell_type": "code",
   "execution_count": 38,
   "id": "f4f0d3fa-68c7-4a2c-a35f-47195381ef0c",
   "metadata": {},
   "outputs": [
    {
     "data": {
      "image/png": "[encoded data removed]",
      "text/plain": [
       "<Figure size 432x288 with 1 Axes>"
      ]
     },
     "metadata": {
      "needs_background": "light"
     },
     "output_type": "display_data"
    }
   ],
   "source": [
    "sns.countplot(x='Attrition', hue='JobLevel', palette = \"magma\", data=df);"
   ]
  },
  {
   "cell_type": "code",
   "execution_count": 49,
   "id": "97c68414-79d5-43d7-a586-16881940683e",
   "metadata": {},
   "outputs": [
    {
     "data": {
      "image/png": "[encoded data removed]",
      "text/plain": [
       "<Figure size 1080x360 with 1 Axes>"
      ]
     },
     "metadata": {
      "needs_background": "light"
     },
     "output_type": "display_data"
    }
   ],
   "source": [
    "plt.figure(figsize=(15,5))\n",
    "sns.countplot(x='YearsSinceLastPromotion', hue='Attrition', palette = \"magma\", data=df);"
   ]
  },
  {
   "cell_type": "code",
   "execution_count": 47,
   "id": "b3a32bc7-07c0-4abd-999e-705ee2ebc275",
   "metadata": {},
   "outputs": [
    {
     "data": {
      "image/png": "[encoded data removed]",
      "text/plain": [
       "<Figure size 1080x360 with 1 Axes>"
      ]
     },
     "metadata": {
      "needs_background": "light"
     },
     "output_type": "display_data"
    }
   ],
   "source": [
    "plt.figure(figsize=(15,5))\n",
    "sns.countplot(x='YearsAtCompany', hue='Attrition', palette = \"magma\", data=df);"
   ]
  },
  {
   "cell_type": "code",
   "execution_count": null,
   "id": "544e3493-b7d6-4a48-a385-80d9cf582446",
   "metadata": {},
   "outputs": [],
   "source": []
  },
  {
   "cell_type": "code",
   "execution_count": 74,
   "id": "7aa2b0f8-2d2b-45f7-b050-d36363c9d90a",
   "metadata": {},
   "outputs": [
    {
     "data": {
      "image/png": "[encoded data removed]",
      "text/plain": [
       "<Figure size 1080x360 with 1 Axes>"
      ]
     },
     "metadata": {
      "needs_background": "light"
     },
     "output_type": "display_data"
    }
   ],
   "source": [
    "plt.figure(figsize=(15,5))\n",
    "sns.countplot(x='OverTime', hue='Attrition', palette = \"rocket\", data=df);"
   ]
  },
  {
   "cell_type": "code",
   "execution_count": 73,
   "id": "abef821b-e02c-4451-9bdf-1df233711400",
   "metadata": {},
   "outputs": [
    {
     "data": {
      "image/png": "[encoded data removed]",
      "text/plain": [
       "<Figure size 1080x360 with 1 Axes>"
      ]
     },
     "metadata": {
      "needs_background": "light"
     },
     "output_type": "display_data"
    }
   ],
   "source": [
    "plt.figure(figsize=(15,5))\n",
    "sns.countplot(x='EnvironmentSatisfaction', hue='Attrition', palette = \"rocket\", data=df);"
   ]
  },
  {
   "cell_type": "code",
   "execution_count": 75,
   "id": "5be2bdb7-9475-4b37-a794-db1175ac57f8",
   "metadata": {},
   "outputs": [
    {
     "name": "stdout",
     "output_type": "stream",
     "text": [
      "Maximum 60\n",
      "Minimum 18\n"
     ]
    },
    {
     "data": {
      "image/png": "[encoded data removed]",
      "text/plain": [
       "<Figure size 504x360 with 1 Axes>"
      ]
     },
     "metadata": {
      "needs_background": "light"
     },
     "output_type": "display_data"
    }
   ],
   "source": [
    "plt.figure(figsize=(7,5))\n",
    "sns.histplot(df.Age,kde=True,palette='rocket')\n",
    "print('Maximum',df['Age'].max())\n",
    "print('Minimum',df['Age'].min())"
   ]
  },
  {
   "cell_type": "markdown",
   "id": "60e404e9-7aab-4d53-8e51-a158026f4d4c",
   "metadata": {
    "tags": []
   },
   "source": [
    "### Data Processing"
   ]
  },
  {
   "cell_type": "code",
   "execution_count": null,
   "id": "6427a381-604a-498f-b82f-3f3c02da7dfb",
   "metadata": {},
   "outputs": [],
   "source": []
  }
 ],
 "metadata": {
  "kernelspec": {
   "display_name": "Python 3 (ipykernel)",
   "language": "python",
   "name": "python3"
  },
  "language_info": {
   "codemirror_mode": {
    "name": "ipython",
    "version": 3
   },
   "file_extension": ".py",
   "mimetype": "text/x-python",
   "name": "python",
   "nbconvert_exporter": "python",
   "pygments_lexer": "ipython3",
   "version": "3.9.7"
  }
 },
 "nbformat": 4,
 "nbformat_minor": 5
}
